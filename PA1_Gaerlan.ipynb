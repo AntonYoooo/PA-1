{
 "cells": [
  {
   "cell_type": "code",
   "execution_count": 1,
   "id": "e37e40c5-4ce2-4576-b339-a7c09ea6ad59",
   "metadata": {},
   "outputs": [
    {
     "name": "stdin",
     "output_type": "stream",
     "text": [
      "Enter a string to sort:  hello\n"
     ]
    },
    {
     "name": "stdout",
     "output_type": "stream",
     "text": [
      "The String in Alphabetical order is:  ehllo\n"
     ]
    }
   ],
   "source": [
    "#1: Alphabet Soup Problem\n",
    "#define a function named alphabet soup that would rearrange and sort strings\n",
    "def alphabet_soup(name):\n",
    "    return ''.join(sorted(name.lower()))\n",
    "\n",
    "#prompt user input \n",
    "name = input(\"Enter a string to sort: \")\n",
    "sorted_string = alphabet_soup(name)\n",
    "#print the sorted strings\n",
    "print(\"The String in Alphabetical order is: \", sorted_string)\n"
   ]
  },
  {
   "cell_type": "code",
   "execution_count": 3,
   "id": "26dfea64-3b07-48c6-919a-d33c3780cb97",
   "metadata": {},
   "outputs": [
    {
     "name": "stdin",
     "output_type": "stream",
     "text": [
      "Emotify words!! (smile, grin, sad, mad):  Make me smile\n"
     ]
    },
    {
     "name": "stdout",
     "output_type": "stream",
     "text": [
      "Emotified: make me :)\n"
     ]
    }
   ],
   "source": [
    "#2 Emoticon Problem\n",
    "#create a function that would take certain words and replace them with emoticons\n",
    "def emotify(emotion):\n",
    "    emotion = emotion.lower()\n",
    "    if \"smile\" in emotion:\n",
    "        emotion = emotion.replace(\"smile\", \":)\")\n",
    "    if \"grin\" in emotion: \n",
    "        emotion = emotion.replace(\"grin\", \":D\")\n",
    "    if \"sad\" in emotion:\n",
    "        emotion = emotion.replace(\"sad\", \":((\")\n",
    "    if \"mad\" in emotion:\n",
    "        emotion = emotion.replace(\"mad\", \">:(\")\n",
    "    return emotion\n",
    "#prompt user to input words and emotify them\n",
    "n = input(\"Emotify words!! (smile, grin, sad, mad): \")\n",
    "print(\"Emotified: \" + emotify(n))\n",
    "\n",
    "\n"
   ]
  },
  {
   "cell_type": "code",
   "execution_count": 5,
   "id": "30e79feb-1949-4f27-86e2-68c46ed83a91",
   "metadata": {
    "scrolled": true
   },
   "outputs": [
    {
     "name": "stdout",
     "output_type": "stream",
     "text": [
      "first:  1\n",
      "middle:  [2, 3, 4, 5]\n",
      "last:  6\n"
     ]
    }
   ],
   "source": [
    "#3 Unpacking List Problem\n",
    "#Create a list named \"writeyourcodehere\" which contains the numbers 1-6\n",
    "writeyourcodehere = [1, 2, 3, 4, 5, 6]\n",
    "#unpack and separate the list into three, which are first, middle and last\n",
    "first, *middle, last = writeyourcodehere\n",
    "#print the first, middle, and last elements of the list into 3 separate parts\n",
    "print(f\"first: \", first)\n",
    "print(f\"middle: \", middle)\n",
    "print(f\"last: \", last)\n",
    "\n"
   ]
  },
  {
   "cell_type": "code",
   "execution_count": null,
   "id": "a2146baf-7907-42c6-9f04-0b4dbb45e3c5",
   "metadata": {},
   "outputs": [],
   "source": []
  }
 ],
 "metadata": {
  "kernelspec": {
   "display_name": "Python 3 (ipykernel)",
   "language": "python",
   "name": "python3"
  },
  "language_info": {
   "codemirror_mode": {
    "name": "ipython",
    "version": 3
   },
   "file_extension": ".py",
   "mimetype": "text/x-python",
   "name": "python",
   "nbconvert_exporter": "python",
   "pygments_lexer": "ipython3",
   "version": "3.12.4"
  }
 },
 "nbformat": 4,
 "nbformat_minor": 5
}
